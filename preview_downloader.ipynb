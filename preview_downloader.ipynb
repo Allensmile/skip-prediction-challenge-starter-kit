{
 "cells": [
  {
   "cell_type": "markdown",
   "metadata": {},
   "source": [
    "In this notebook we demonstrate how you can use the Spotify Web API to download 30 second previews for the tracks contained in the logs.\n",
    "\n",
    "Before running this notebook you will need to do the following:\n",
    "\n",
    "1. Verify that you have a Spotify account, or create one\n",
    "2. Go to https://developer.spotify.com/dashboard/applications and click 'Create a client id'\n",
    "3. Choose a suitable app name and description. We suggest choosing the app name 'wsdm-cup-2019-YOURUSERNAME'\n",
    "4. Under 'What are you building?', select 'I don't know'\n",
    "5. Agree to the terms\n",
    "6. Note down the client id and client secret for your newly created app. \n",
    "\n",
    "Note that some tracks will not have previews available. "
   ]
  },
  {
   "cell_type": "code",
   "execution_count": 63,
   "metadata": {},
   "outputs": [],
   "source": [
    "import spotipy\n",
    "from spotipy.oauth2 import SpotifyClientCredentials\n",
    "import glob\n",
    "import pandas as pd\n",
    "from random import randint\n",
    "import requests"
   ]
  },
  {
   "cell_type": "markdown",
   "metadata": {},
   "source": [
    "Below you need to enter the path to your data folder, and your client id and client secret from above"
   ]
  },
  {
   "cell_type": "code",
   "execution_count": 64,
   "metadata": {},
   "outputs": [],
   "source": [
    "data_path = 'DATASET-PATH' # point this to your data folder\n",
    "track_features_path = data_path + 'track_features/'\n",
    "track_features_files = sorted(glob.glob(track_features_path + '*.csv'))\n",
    "client_id = 'YOUR CLIENT ID' # enter your client id here\n",
    "client_secret = 'YOUR CLIENT SECRET' # enter your client secret here"
   ]
  },
  {
   "cell_type": "code",
   "execution_count": 65,
   "metadata": {},
   "outputs": [],
   "source": [
    "def get_sample_track_uri(track_features_files):\n",
    "    df = pd.read_csv(track_features_files[randint(0,len(track_features_files)-1)])\n",
    "    return df['track_uri'].sample().iloc[0]"
   ]
  },
  {
   "cell_type": "code",
   "execution_count": 66,
   "metadata": {},
   "outputs": [],
   "source": [
    "def get_preview_link(track_uri):\n",
    "    client_credentials_manager = SpotifyClientCredentials(client_id=client_id,\n",
    "                                                          client_secret=client_secret)\n",
    "    spotify = spotipy.Spotify(client_credentials_manager=client_credentials_manager)\n",
    "\n",
    "    result = spotify.track(track_uri)\n",
    "    download_link = result['preview_url']\n",
    "    print(download_link)\n",
    "    return download_link"
   ]
  },
  {
   "cell_type": "code",
   "execution_count": 67,
   "metadata": {},
   "outputs": [],
   "source": [
    "def download_preview(url,track_preview_path):\n",
    "    r = requests.get(url, allow_redirects=True)\n",
    "    with open(track_preview_path,'w') as f:\n",
    "        f.write(r.content)"
   ]
  },
  {
   "cell_type": "code",
   "execution_count": null,
   "metadata": {},
   "outputs": [],
   "source": [
    "track_uri = get_sample_track_uri(track_features_files)\n",
    "preview_path = data_path + '{}.mp3'.format(track_uri.split(':')[2])\n",
    "preview_url = get_preview_link(track_uri)\n",
    "download_preview(preview_url,preview_path)"
   ]
  }
 ],
 "metadata": {
  "kernelspec": {
   "display_name": "Python 3",
   "language": "python",
   "name": "python3"
  },
  "language_info": {
   "codemirror_mode": {
    "name": "ipython",
    "version": 3
   },
   "file_extension": ".py",
   "mimetype": "text/x-python",
   "name": "python",
   "nbconvert_exporter": "python",
   "pygments_lexer": "ipython3",
   "version": "3.7.1"
  }
 },
 "nbformat": 4,
 "nbformat_minor": 2
}
