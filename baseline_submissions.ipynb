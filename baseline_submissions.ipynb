{
 "cells": [
  {
   "cell_type": "code",
   "execution_count": null,
   "metadata": {},
   "outputs": [],
   "source": [
    "import glob\n",
    "import pandas as pd\n",
    "import numpy as np\n",
    "import time"
   ]
  },
  {
   "cell_type": "code",
   "execution_count": 49,
   "metadata": {},
   "outputs": [],
   "source": [
    "data_path = '/mnt/disks/external_mssd/' # point this to your data folder\n",
    "training_path = data_path + 'training_set/'\n",
    "test_path = data_path + 'test_set/'\n",
    "submission_path = data_path + 'Submissions/'\n",
    "test_input_logs = sorted(glob.glob(test_path + \"log_input_*.csv\"))"
   ]
  },
  {
   "cell_type": "code",
   "execution_count": 27,
   "metadata": {},
   "outputs": [],
   "source": [
    "def generate_random_submission(input_logs):\n",
    "    '''\n",
    "    \n",
    "    '''\n",
    "    output = []\n",
    "    for i,f in enumerate(input_logs):\n",
    "        print(i)\n",
    "        df = pd.read_csv(f)\n",
    "        current_index = 0\n",
    "        while current_index < len(df):\n",
    "            sess_length = df['session_length'].iloc[current_index]-df['session_position'].iloc[current_index]+1\n",
    "            current_preds = np.random.choice([0, 1], size=(sess_length,))\n",
    "            output.append(current_preds)\n",
    "            current_index += sess_length\n",
    "    print('random submission generated')\n",
    "    return output"
   ]
  },
  {
   "cell_type": "code",
   "execution_count": 30,
   "metadata": {},
   "outputs": [],
   "source": [
    "def save_submission(output,output_path):\n",
    "    with open(output_path,\"w\") as f:\n",
    "        for l in output:\n",
    "            line = ''.join(map(str,l))\n",
    "            f.write(line + '\\n')\n",
    "    print('submission saved to {}'.format(output_path))"
   ]
  },
  {
   "cell_type": "code",
   "execution_count": 31,
   "metadata": {},
   "outputs": [],
   "source": [
    "def submit(output_path):\n",
    "    '''\n",
    "    TODO:\n",
    "    '''\n",
    "    pass"
   ]
  },
  {
   "cell_type": "code",
   "execution_count": null,
   "metadata": {},
   "outputs": [],
   "source": [
    "random_submission_list = generate_random_submission(test_input_logs)\n",
    "save_submission(random_submission_list,submission_path + 'random_submission.txt')"
   ]
  }
 ],
 "metadata": {
  "kernelspec": {
   "display_name": "Python 3",
   "language": "python",
   "name": "python3"
  },
  "language_info": {
   "codemirror_mode": {
    "name": "ipython",
    "version": 3
   },
   "file_extension": ".py",
   "mimetype": "text/x-python",
   "name": "python",
   "nbconvert_exporter": "python",
   "pygments_lexer": "ipython3",
   "version": "3.7.0"
  }
 },
 "nbformat": 4,
 "nbformat_minor": 2
}
